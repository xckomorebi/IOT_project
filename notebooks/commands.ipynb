{
 "cells": [
  {
   "cell_type": "code",
   "execution_count": null,
   "metadata": {},
   "outputs": [],
   "source": [
    "project_root = '/content/drive/MyDrive/repo/IOT_project'\n",
    "%cd {project_root}"
   ]
  },
  {
   "cell_type": "code",
   "execution_count": null,
   "metadata": {},
   "outputs": [],
   "source": [
    "import os\n",
    "\n",
    "data_path = os.path.join(project_root, 'data')\n",
    "\n",
    "raw_data_path = os.path.join(data_path, 'raw')\n",
    "subsampled_data_path = os.path.join(data_path, 'subsampled')\n",
    "feature_data_path = os.path.join(data_path, 'feature')\n"
   ]
  },
  {
   "cell_type": "markdown",
   "metadata": {},
   "source": [
    "## TODO 1. Preprocessing"
   ]
  },
  {
   "cell_type": "code",
   "execution_count": null,
   "metadata": {},
   "outputs": [],
   "source": [
    "def preprocess():\n",
    "    '''Preprocess(): subsample video frames in any way you choose, subsampling can improve computation time\n",
    "          Input: Iterate through the directory of videos\n",
    "          Output: Stores a subsampled video for each in the directory that only contains a 100 frames\n",
    "    '''\n",
    "    # your code here\n",
    "    pass\n"
   ]
  },
  {
   "cell_type": "markdown",
   "metadata": {},
   "source": [
    "## TODO 2. Featurization"
   ]
  },
  {
   "cell_type": "code",
   "execution_count": null,
   "metadata": {},
   "outputs": [],
   "source": [
    "from src.features import basic_features\n",
    "\n",
    "# basic_features.extract_feature_from_path(subsampled_data_path, feature_data_path)"
   ]
  },
  {
   "cell_type": "markdown",
   "metadata": {},
   "source": [
    "## TODO 3. Create a Dataset"
   ]
  },
  {
   "cell_type": "markdown",
   "metadata": {},
   "source": [
    "## TODO 4. Train a Classifier"
   ]
  },
  {
   "cell_type": "markdown",
   "metadata": {},
   "source": [
    "## TODO 5. Submit Challenge Predictions"
   ]
  }
 ],
 "metadata": {
  "language_info": {
   "name": "python"
  },
  "orig_nbformat": 4
 },
 "nbformat": 4,
 "nbformat_minor": 2
}
