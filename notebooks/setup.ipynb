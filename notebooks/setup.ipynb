{
 "cells": [
  {
   "cell_type": "code",
   "execution_count": null,
   "metadata": {},
   "outputs": [],
   "source": [
    "from google.colab import drive\n",
    "drive.mount('/content/drive')"
   ]
  },
  {
   "cell_type": "code",
   "execution_count": null,
   "metadata": {},
   "outputs": [],
   "source": [
    "import os\n",
    "project_root = '/content/drive/MyDrive/repo/IOT_project'\n",
    "\n",
    "if not os.path.exists(project_root):\n",
    "    !mkdir -p {project_root}\n",
    "    !git clone git@github.com:xckomorebi/IOT_project.git {project_root}\n",
    "\n",
    "%cd {project_root}"
   ]
  },
  {
   "cell_type": "markdown",
   "metadata": {},
   "source": [
    "symbolic link\n",
    "\n",
    "plz comfirm 'IoT' is in 'MyDrive' folder"
   ]
  },
  {
   "cell_type": "code",
   "execution_count": null,
   "metadata": {},
   "outputs": [],
   "source": [
    "import os\n",
    "data_src = '/content/drive/MyDrive/IoT/data'\n",
    "data_dst = os.path.join(project_root, 'data')\n",
    "\n",
    "if not os.path.exists(data_dst):\n",
    "  os.symlink(data_src, data_dst)"
   ]
  },
  {
   "cell_type": "code",
   "execution_count": null,
   "metadata": {},
   "outputs": [],
   "source": [
    "!pip install -U torch==1.5 torchvision==0.6 -f https://download.pytorch.org/whl/cu101/torch_stable.html \n",
    "!pip install cython pyyaml==5.1\n",
    "!pip install -U 'git+https://github.com/cocodataset/cocoapi.git#subdirectory=PythonAPI'\n",
    "import torch, torchvision\n",
    "print(torch.__version__, torch.cuda.is_available())\n",
    "!gcc --version\n",
    "!pip install detectron2==0.1.3 -f https://dl.fbaipublicfiles.com/detectron2/wheels/cu101/torch1.5/index.html"
   ]
  },
  {
   "cell_type": "markdown",
   "metadata": {},
   "source": [
    "* add VideoPose3D dependency to python-site packages folder"
   ]
  },
  {
   "cell_type": "code",
   "execution_count": 9,
   "metadata": {},
   "outputs": [],
   "source": [
    "import site\n",
    "import sys\n",
    "import subprocess\n",
    "\n",
    "site_packages_path = site.getsitepackages()[0]\n",
    "package_name = 'VideoPose3D'\n",
    "\n",
    "try:\n",
    "  import VideoPose3D\n",
    "except ImportError:\n",
    "  VideoPose3D_path = os.path.join(site_packages_path, 'VideoPose3D')\n",
    "  subprocess.run(['git', 'clone', 'https://github.com/facebookresearch/VideoPose3D.git', VideoPose3D_path])"
   ]
  }
 ],
 "metadata": {
  "interpreter": {
   "hash": "e3aa1c9493f4b7f63998b8be7d01e93d764c4dc55d664efc2c299db8d7c3e90b"
  },
  "kernelspec": {
   "display_name": "Python 3.7.11 64-bit ('iot-env': conda)",
   "language": "python",
   "name": "python3"
  },
  "language_info": {
   "codemirror_mode": {
    "name": "ipython",
    "version": 3
   },
   "file_extension": ".py",
   "mimetype": "text/x-python",
   "name": "python",
   "nbconvert_exporter": "python",
   "pygments_lexer": "ipython3",
   "version": "3.7.11"
  },
  "orig_nbformat": 4
 },
 "nbformat": 4,
 "nbformat_minor": 2
}
